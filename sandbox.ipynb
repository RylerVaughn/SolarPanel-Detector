{
 "cells": [
  {
   "cell_type": "code",
   "execution_count": 1,
   "id": "dd54a92b",
   "metadata": {},
   "outputs": [],
   "source": [
    "from playwright.async_api import async_playwright\n",
    "import time\n",
    "import asyncio\n",
    "import re"
   ]
  },
  {
   "cell_type": "code",
   "execution_count": 2,
   "id": "2cc70057",
   "metadata": {},
   "outputs": [
    {
     "name": "stdout",
     "output_type": "stream",
     "text": [
      "<Locator frame=<Frame name= url='https://www.google.com/maps/@34.397303,-119.7179186,49m/data=!3m1!1e3?entry=ttu&g_ep=EgoyMDI1MDczMC4wIKXMDSoASAFQAw%3D%3D'> selector='button[jsaction=\"minimap.main; contextmenu:minimap.main; focus:minimap.main; mousemove:minimap.main; mouseover:minimap.main; mouseout:minimap.main\"]'>\n"
     ]
    }
   ],
   "source": [
    "async with async_playwright() as wright:\n",
    "    browser = await wright.chromium.launch(headless=False)\n",
    "    page = await browser.new_page(viewport={\"height\": 800, \"width\": 1200})\n",
    "    await page.goto(\"https://www.google.com/url?sa=t&source=web&rct=j&opi=89978449&url=https://maps.google.com/&ved=2ahUKEwjqz5SU1LOOAxXdIUQIHbUFDXoQFnoECAsQAQ&usg=AOvVaw3z2z03MnvIwD2K6kwtdD9z\")\n",
    "    await asyncio.sleep(8)\n",
    "    satellite_toggle = page.locator('button[jsaction=\"minimap.main; contextmenu:minimap.main; focus:minimap.main; mousemove:minimap.main; mouseover:minimap.main; mouseout:minimap.main\"]')\n",
    "    await satellite_toggle.wait_for(state='visible')\n",
    "    await satellite_toggle.click()\n",
    "    await asyncio.sleep(10)\n",
    "print(satellite_toggle)"
   ]
  },
  {
   "cell_type": "code",
   "execution_count": null,
   "id": "cadcbb32",
   "metadata": {},
   "outputs": [],
   "source": [
    "st = 'https://www.google.com/maps/@34.3965222,-119.7080576,8529m/data=!3m1!1e3?entry=ttu&g_ep=EgoyMDI1MDcxNi4wIKXMDSoASAFQAw%3D%3D'"
   ]
  },
  {
   "cell_type": "code",
   "execution_count": 7,
   "id": "5035a636",
   "metadata": {},
   "outputs": [],
   "source": [
    "\n",
    "match = re.search(r'@[^,]+,[^,]+,(\\d+)m', st)"
   ]
  },
  {
   "cell_type": "code",
   "execution_count": 13,
   "id": "8ce7af53",
   "metadata": {},
   "outputs": [
    {
     "data": {
      "text/plain": [
       "'6300'"
      ]
     },
     "execution_count": 13,
     "metadata": {},
     "output_type": "execute_result"
    }
   ],
   "source": [
    "match.group(1)"
   ]
  },
  {
   "cell_type": "code",
   "execution_count": null,
   "id": "f9e2812c",
   "metadata": {},
   "outputs": [],
   "source": []
  }
 ],
 "metadata": {
  "kernelspec": {
   "display_name": ".venv",
   "language": "python",
   "name": "python3"
  },
  "language_info": {
   "codemirror_mode": {
    "name": "ipython",
    "version": 3
   },
   "file_extension": ".py",
   "mimetype": "text/x-python",
   "name": "python",
   "nbconvert_exporter": "python",
   "pygments_lexer": "ipython3",
   "version": "3.12.3"
  }
 },
 "nbformat": 4,
 "nbformat_minor": 5
}
